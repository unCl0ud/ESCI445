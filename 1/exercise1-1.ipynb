{
 "cells": [
  {
   "cell_type": "markdown",
   "metadata": {
    "deletable": true,
    "editable": true
   },
   "source": [
    "# ESCI 445 - Programming Exercise 1-1"
   ]
  },
  {
   "cell_type": "markdown",
   "metadata": {
    "deletable": true,
    "editable": true
   },
   "source": [
    "## Forward-in-time Scheme"
   ]
  },
  {
   "cell_type": "markdown",
   "metadata": {
    "deletable": true,
    "editable": true
   },
   "source": [
    "Solving the equation $\\dfrac{dz}{dt}=-gt^{3/2}$, with $g=9.81 m~s^{-2}$ and initial displacement of zero."
   ]
  },
  {
   "cell_type": "markdown",
   "metadata": {
    "deletable": true,
    "editable": true
   },
   "source": [
    "Variables\n",
    "\n",
    "+ z_now:  current displacement\n",
    "+ z_new: new displacement after calculation\n",
    "+ z_analytic: actual solution\n",
    "+ t: time on entering time step\n",
    "+ t_new: time on leaving time step\n",
    "+ t_final:  time at end of simulation (seconds)\n",
    "+ g:  acceleration\n",
    "+ dt: time interval (seconds)"
   ]
  },
  {
   "cell_type": "markdown",
   "metadata": {
    "deletable": true,
    "editable": true
   },
   "source": [
    "#### Import numpy and initialize parameters."
   ]
  },
  {
   "cell_type": "code",
   "execution_count": 55,
   "metadata": {
    "collapsed": false,
    "deletable": true,
    "editable": true
   },
   "outputs": [],
   "source": [
    "import numpy as np\n",
    "\n",
    "t_final = 5.0 # Final time (seconds)\n",
    "g = 9.81  #  gravity (m/s^2)\n",
    "z_now = 0 #  Variable to hold current displacement\n"
   ]
  },
  {
   "cell_type": "markdown",
   "metadata": {
    "deletable": true,
    "editable": true
   },
   "source": [
    "#### Specify time interval."
   ]
  },
  {
   "cell_type": "code",
   "execution_count": 56,
   "metadata": {
    "collapsed": false,
    "deletable": true,
    "editable": true
   },
   "outputs": [
    {
     "name": "stdout",
     "output_type": "stream",
     "text": [
      "Enter time interval (sec): 1\n"
     ]
    }
   ],
   "source": [
    "# Enter time interval\n",
    "dt = float(input('Enter time interval (sec): '))"
   ]
  },
  {
   "cell_type": "markdown",
   "metadata": {
    "deletable": true,
    "editable": true
   },
   "source": [
    "#### Main loop for calculating displacement."
   ]
  },
  {
   "cell_type": "code",
   "execution_count": 57,
   "metadata": {
    "collapsed": false,
    "deletable": true,
    "editable": true
   },
   "outputs": [
    {
     "name": "stdout",
     "output_type": "stream",
     "text": [
      "seconds   calculated    analytic   \n",
      "1.0000     0.000000    -3.924000\n",
      "2.0000    -9.810000   -22.197496\n",
      "3.0000   -37.556870   -61.169106\n",
      "4.0000   -88.531125  -125.568000\n",
      "5.0000  -167.011125  -219.358269\n"
     ]
    }
   ],
   "source": [
    "# Print header\n",
    "print('{0:6s}   {1:11s}   {2:11s}'.format('seconds', 'calculated', 'analytic'))\n",
    "\n",
    "# Main loop\n",
    "for n in range(0, int(t_final/dt)):\n",
    "    t = n*dt  # time on entering step\n",
    "    z_new = z_now - dt*g*t**(1.5)\n",
    "    z_now = z_new  #  Swap time levels\n",
    "    t_new = (n+1)*dt  # time on leaving step\n",
    "    z_analytic = -(2.0/5.0)*g*t_new**(2.5)  # Analytic solution\n",
    "    \n",
    "    # Print results\n",
    "    print('{0:6.4f}  {1:11.6f}  {2:11.6f}'.format(t_new,z_now,z_analytic))"
   ]
  },
  {
   "cell_type": "code",
   "execution_count": null,
   "metadata": {
    "collapsed": false,
    "deletable": true,
    "editable": true
   },
   "outputs": [],
   "source": []
  }
 ],
 "metadata": {
  "kernelspec": {
   "display_name": "Python 3",
   "language": "python",
   "name": "python3"
  },
  "language_info": {
   "codemirror_mode": {
    "name": "ipython",
    "version": 3
   },
   "file_extension": ".py",
   "mimetype": "text/x-python",
   "name": "python",
   "nbconvert_exporter": "python",
   "pygments_lexer": "ipython3",
   "version": "3.5.2"
  }
 },
 "nbformat": 4,
 "nbformat_minor": 0
}
