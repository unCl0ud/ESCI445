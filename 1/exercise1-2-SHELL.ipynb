{
 "cells": [
  {
   "cell_type": "markdown",
   "metadata": {
    "deletable": true,
    "editable": true
   },
   "source": [
    "# ESCI 445 - Programming Exercise 1-2"
   ]
  },
  {
   "cell_type": "markdown",
   "metadata": {
    "deletable": true,
    "editable": true
   },
   "source": [
    "## Centered-in-time Scheme"
   ]
  },
  {
   "cell_type": "markdown",
   "metadata": {
    "deletable": true,
    "editable": true
   },
   "source": [
    "Solving the equation $\\dfrac{dz}{dt}=-gt^{3/2}$, with $g=9.81 m s^{-2}$ and initial displacement of zero."
   ]
  },
  {
   "cell_type": "markdown",
   "metadata": {
    "deletable": true,
    "editable": true
   },
   "source": [
    "### <font color = 'Cyan'><i>*Modify or create the code in the cells preceded by Cyan headers.</i></font>"
   ]
  },
  {
   "cell_type": "markdown",
   "metadata": {
    "deletable": true,
    "editable": true
   },
   "source": [
    "Variables\n",
    "\n",
    "+ z_now:  current displacement\n",
    "+ z_new:  new displacement after calculation\n",
    "+ z_old: previous displacement\n",
    "+ z_analytic: actual solution\n",
    "+ t: time on entering time step\n",
    "+ t_new: time on leaving time step\n",
    "+ t_final:  time at end of simulation (seconds)\n",
    "+ g:  acceleration\n",
    "+ dt: time interval (seconds)"
   ]
  },
  {
   "cell_type": "markdown",
   "metadata": {
    "deletable": true,
    "editable": true
   },
   "source": [
    "#### Import numpy and initialize parameters."
   ]
  },
  {
   "cell_type": "code",
   "execution_count": 20,
   "metadata": {
    "collapsed": false,
    "deletable": true,
    "editable": true
   },
   "outputs": [],
   "source": [
    "import numpy as np\n",
    "\n",
    "t_final = 5.0 # Final time (seconds)\n",
    "g = 9.81  #  gravity (m/s^2)\n",
    "z_now = 0 #  Variable to hold current displacement"
   ]
  },
  {
   "cell_type": "markdown",
   "metadata": {
    "deletable": true,
    "editable": true
   },
   "source": [
    "#### Specify time interval."
   ]
  },
  {
   "cell_type": "code",
   "execution_count": 21,
   "metadata": {
    "collapsed": false,
    "deletable": true,
    "editable": true
   },
   "outputs": [
    {
     "name": "stdout",
     "output_type": "stream",
     "text": [
      "Enter time interval (sec): 0.1\n"
     ]
    }
   ],
   "source": [
    "# Enter time interval\n",
    "dt = float(input('Enter time interval (sec): '))"
   ]
  },
  {
   "cell_type": "markdown",
   "metadata": {
    "deletable": true,
    "editable": true
   },
   "source": [
    "#### Use forward-in-time for first time step"
   ]
  },
  {
   "cell_type": "code",
   "execution_count": 22,
   "metadata": {
    "collapsed": false,
    "deletable": true,
    "editable": true
   },
   "outputs": [
    {
     "name": "stdout",
     "output_type": "stream",
     "text": [
      "seconds   calculated    analytic   \n",
      "0.1000     0.000000    -0.012409\n"
     ]
    }
   ],
   "source": [
    "# Print header\n",
    "print('{0:6s}   {1:11s}   {2:11s}'.format('seconds', 'calculated', 'analytic'))\n",
    "\n",
    "# Forward step one time\n",
    "n = 0\n",
    "t = n*dt  # time on entering step\n",
    "z_new = z_now - dt*g*t**(1.5)\n",
    "# Swap time levels\n",
    "z_old = z_now  \n",
    "z_now = z_new\n",
    "t_new = (n+1)*dt  # time on leaving step\n",
    "z_analytic = -(2.0/5.0)*g*t_new**(2.5)  # Analytic soln.\n",
    "\n",
    "# Print results\n",
    "print('{0:6.4f}  {1:11.6f}  {2:11.6f}'.format(t_new,z_now,z_analytic))"
   ]
  },
  {
   "cell_type": "markdown",
   "metadata": {
    "deletable": true,
    "editable": true
   },
   "source": [
    "#### <font color = 'cyan'>*Main loop for calculating displacement using centered-in-time scheme."
   ]
  },
  {
   "cell_type": "code",
   "execution_count": 23,
   "metadata": {
    "collapsed": false,
    "deletable": true,
    "editable": true
   },
   "outputs": [
    {
     "name": "stdout",
     "output_type": "stream",
     "text": [
      "seconds   calculated    analytic   \n",
      "0.2000    -0.062044    -0.070195\n",
      "0.3000    -0.175487    -0.193434\n",
      "0.4000    -0.384433    -0.397081\n",
      "0.5000    -0.671838    -0.693672\n",
      "0.6000    -1.078105    -1.094226\n",
      "0.7000    -1.583693    -1.608696\n",
      "0.8000    -2.227174    -2.246229\n",
      "0.9000    -2.987586    -3.015333\n",
      "1.0000    -3.902359    -3.924000\n",
      "1.1000    -4.949586    -4.979786\n",
      "1.2000    -6.165898    -6.189878\n",
      "1.3000    -7.528702    -7.561142\n",
      "1.4000    -9.074030    -9.100161\n",
      "1.5000   -10.778759   -10.813272\n",
      "1.6000   -12.678454   -12.706588\n",
      "1.7000   -14.749568   -14.786020\n",
      "1.8000   -17.027283   -17.057299\n",
      "1.9000   -19.487707   -19.525987\n",
      "2.0000   -22.165701   -22.197496\n",
      "2.1000   -25.037081   -25.077096\n",
      "2.2000   -28.136438   -28.169926\n",
      "2.3000   -31.439337   -31.481005\n",
      "2.4000   -34.980135   -35.015240\n",
      "2.5000   -38.734178   -38.777430\n",
      "2.6000   -42.735621   -42.772277\n",
      "2.7000   -46.959616   -47.004389\n",
      "2.8000   -51.440137   -51.478286\n",
      "2.9000   -56.152167   -56.198405\n",
      "3.0000   -61.129518   -61.169106\n",
      "3.1000   -66.347018   -66.394673\n",
      "3.2000   -71.838336   -71.879317\n",
      "3.3000   -77.578162   -77.627187\n",
      "3.4000   -83.600031   -83.642363\n",
      "3.5000   -89.878509   -89.928864\n",
      "3.6000   -96.447011   -96.490654\n",
      "3.7000  -103.279989  -103.331637\n",
      "3.8000  -110.410746  -110.455664\n",
      "3.9000  -117.813629  -117.866535\n",
      "4.0000  -125.521840  -125.568000\n",
      "4.1000  -133.509629  -133.563761\n",
      "4.2000  -141.810104  -141.857475\n",
      "4.3000  -150.397423  -150.452753\n",
      "4.4000  -159.304610  -159.353164\n",
      "4.5000  -168.505737  -168.562236\n",
      "4.6000  -178.033747  -178.083457\n",
      "4.7000  -187.862635  -187.920277\n",
      "4.8000  -198.025266  -198.076107\n",
      "4.9000  -208.495563  -208.554324\n",
      "5.0000  -219.306319  -219.358269\n"
     ]
    }
   ],
   "source": [
    "# Print header\n",
    "print('{0:6s}   {1:11s}   {2:11s}'.format('seconds', 'calculated', 'analytic'))\n",
    "\n",
    "# Main loop\n",
    "for n in range(1, int(t_final/dt)): # Note:  n starts at 1, not 0\n",
    "    \n",
    "    #Write your code here\n",
    "    t = n*dt  # time on entering step\n",
    "    z_new = z_old - 2*dt*g*t**(1.5)\n",
    "    z_old = z_now  \n",
    "    z_now = z_new #  Swap time levels\n",
    "    t_new = (n+1)*dt  # time on leaving step\n",
    "    z_analytic = -(2.0/5.0)*g*t_new**(2.5)  # Analytic solution\n",
    "    \n",
    "    # Print results\n",
    "    print('{0:6.4f}  {1:11.6f}  {2:11.6f}'.format(t_new,z_now,z_analytic))"
   ]
  },
  {
   "cell_type": "code",
   "execution_count": null,
   "metadata": {
    "collapsed": false,
    "deletable": true,
    "editable": true
   },
   "outputs": [],
   "source": []
  }
 ],
 "metadata": {
  "kernelspec": {
   "display_name": "Python 3",
   "language": "python",
   "name": "python3"
  },
  "language_info": {
   "codemirror_mode": {
    "name": "ipython",
    "version": 3
   },
   "file_extension": ".py",
   "mimetype": "text/x-python",
   "name": "python",
   "nbconvert_exporter": "python",
   "pygments_lexer": "ipython3",
   "version": "3.5.2"
  }
 },
 "nbformat": 4,
 "nbformat_minor": 0
}
