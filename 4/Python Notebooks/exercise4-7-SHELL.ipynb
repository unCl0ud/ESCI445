{
 "cells": [
  {
   "cell_type": "markdown",
   "metadata": {
    "deletable": true,
    "editable": true
   },
   "source": [
    "# ESCI 445 - Programming Exercise 4-1"
   ]
  },
  {
   "cell_type": "markdown",
   "metadata": {
    "deletable": true,
    "editable": true
   },
   "source": [
    "### Modeling the 1D Advection Equation Using the Forward-in-time, Backward-in-space Scheme"
   ]
  },
  {
   "cell_type": "markdown",
   "metadata": {
    "deletable": true,
    "editable": true
   },
   "source": [
    "Variables\n",
    "\n",
    "+ nx: number of x data points\n",
    "+ ny: number of y data points\n",
    "+ dx: $\\Delta x$, spacing between data points (meters)\n",
    "+ dt: $\\Delta t$, time interval (seconds)\n",
    "+ c: speed of advection (either wind speed or wave speed)\n",
    "+ u: parameter being advected\n",
    "+ u_now: value of <i>u</i> at current time step\n",
    "+ u_new: value of <i>u</i> at next time step"
   ]
  },
  {
   "cell_type": "markdown",
   "metadata": {
    "deletable": true,
    "editable": true
   },
   "source": [
    "The 1D advection equation is $\\dfrac{\\partial u}{\\partial t}+c\\dfrac{\\partial u} {\\partial x}=0$.  This notebook will show the steps for how to model this equation using the forward-in-time, backward-in-space scheme for positive values of <i>c</i>."
   ]
  },
  {
   "cell_type": "markdown",
   "metadata": {
    "deletable": true,
    "editable": true
   },
   "source": [
    "### Import libraries"
   ]
  },
  {
   "cell_type": "code",
   "execution_count": null,
   "metadata": {
    "collapsed": false,
    "deletable": true,
    "editable": true
   },
   "outputs": [],
   "source": [
    "import numpy as np   # Import numerical python aliased to np\n",
    "import matplotlib.pyplot as plt  # Import matplotlib pyplot aliased to plt\n",
    "from matplotlib import rcParams"
   ]
  },
  {
   "cell_type": "markdown",
   "metadata": {
    "deletable": true,
    "editable": true
   },
   "source": [
    "### Define fixed model parameters"
   ]
  },
  {
   "cell_type": "code",
   "execution_count": null,
   "metadata": {
    "collapsed": true,
    "deletable": true,
    "editable": true
   },
   "outputs": [],
   "source": [
    "### \n",
    "dx = 1e3  #  Grid spacing in meters\n",
    "dt = 30.0  # Time interval in seconds\n",
    "nx = 601   #  Number of grid points\n",
    "n_total = 500  # Final time index at end of simulation\n",
    "n_save = 10   #  Number of iterations between saves\n",
    "x = np.arange(0,nx)*dx/1000.0  #  Grid values (in kilometers)"
   ]
  },
  {
   "cell_type": "markdown",
   "metadata": {
    "deletable": true,
    "editable": true
   },
   "source": [
    "### Define user-specified model parameters"
   ]
  },
  {
   "cell_type": "code",
   "execution_count": null,
   "metadata": {
    "collapsed": false,
    "deletable": true,
    "editable": true
   },
   "outputs": [],
   "source": [
    "width = 20   #  Signal width in grid points\n",
    "c = 15.0   # Speed of wave in meters per second"
   ]
  },
  {
   "cell_type": "markdown",
   "metadata": {
    "deletable": true,
    "editable": true
   },
   "source": [
    "### Define arrays holding the solution values"
   ]
  },
  {
   "cell_type": "code",
   "execution_count": null,
   "metadata": {
    "collapsed": false,
    "deletable": true,
    "editable": true
   },
   "outputs": [],
   "source": [
    "u_now = np.zeros(nx, dtype = np.float_)  #  Value at current time step\n",
    "u_next = np.zeros_like(u_now)  #  Value at next time step\n",
    "u = np.zeros((0, nx), dtype = np.float_)  # define a variable to hold the output values"
   ]
  },
  {
   "cell_type": "markdown",
   "metadata": {
    "deletable": true,
    "editable": true
   },
   "source": [
    "### Initialize the solution at time zero."
   ]
  },
  {
   "cell_type": "code",
   "execution_count": null,
   "metadata": {
    "collapsed": false,
    "deletable": true,
    "editable": true
   },
   "outputs": [],
   "source": [
    "Gaussian = False  # If true, initial data is Gaussian.  Otherwise, it is rectangel\n",
    "\n",
    "if Gaussian:\n",
    "    std = 6.0  # number of gridpoints for standard deviation\n",
    "    arg = ((nx/2-np.arange(0,nx))**2)/(4*std**2)\n",
    "    u_now[0:nx] = np.exp(-arg)\n",
    "else:\n",
    "    width = 20   #  Signal width\n",
    "    start, stop = int(nx/2) - int(width/2), int(nx/2) + int(width/2)\n",
    "    u_now[start:stop] = 1.0\n",
    "\n",
    "u = np.vstack((u, u_now))    #  Saves initial data for output"
   ]
  },
  {
   "cell_type": "markdown",
   "metadata": {
    "deletable": true,
    "editable": true
   },
   "source": [
    "### <font color = 'blue'>Main loop over time, with nested loop over grid"
   ]
  },
  {
   "cell_type": "code",
   "execution_count": null,
   "metadata": {
    "collapsed": false,
    "deletable": true,
    "editable": true
   },
   "outputs": [],
   "source": [
    "sigma = c*dt/dx  # Defined here so it isn't in the loop\n",
    "\n",
    "for n in range(0, n_total): # start of time loop\n",
    "    \n",
    "    # Write your code here to loop through the grid\n",
    "\n",
    "    # Prints out amplitude of signal\n",
    "    print(n+1, np.max(abs(u_now)))\n",
    "    \n",
    "    # Save output\n",
    "    if (n+1) % n_save == 0:\n",
    "        u = np.vstack((u, u_now))"
   ]
  },
  {
   "cell_type": "markdown",
   "metadata": {
    "deletable": true,
    "editable": true
   },
   "source": [
    "### Save output file for later use.  Output can be viewed separately using the program View-1D.py"
   ]
  },
  {
   "cell_type": "code",
   "execution_count": null,
   "metadata": {
    "collapsed": false,
    "deletable": true,
    "editable": true
   },
   "outputs": [],
   "source": [
    "np.save('fit-bis', u) # Saves output as NumPy array file"
   ]
  },
  {
   "cell_type": "markdown",
   "metadata": {
    "deletable": true,
    "editable": true
   },
   "source": [
    "### Plot output"
   ]
  },
  {
   "cell_type": "code",
   "execution_count": null,
   "metadata": {
    "collapsed": false,
    "deletable": true,
    "editable": true
   },
   "outputs": [],
   "source": [
    "inline = True  # True for inline plot, False for interactive\n",
    "if inline:\n",
    "    %matplotlib notebook\n",
    "else:\n",
    "    %matplotlib\n",
    "    \n",
    "s = r'$u^{' + str(n_total) + r'}$'\n",
    "plt.plot(x, u[0,:], 'g-',label = r'$u^0$')\n",
    "plt.plot(x, u[-1,:], 'b-',label = s)\n",
    "plt.xlim(x[0],x[-1])\n",
    "umin, umax = np.min(u), np.max(u)\n",
    "plt.ylim(umin-0.2, umax+0.2)\n",
    "\n",
    "# Create actual solution for comparison\n",
    "displacement = c*dt*n_total  # distance signal is displaced\n",
    "nindex = int(displacement/dx)  # number of grid points signal is displaced\n",
    "plt.plot(x, np.roll(u[0,:], nindex), 'r:', label = r'$Analytic$')\n",
    "\n",
    "plt.legend((r'$u^0$', s, r'$Analytic$'), loc = 0)\n",
    "plt.show()"
   ]
  },
  {
   "cell_type": "code",
   "execution_count": null,
   "metadata": {
    "collapsed": false,
    "deletable": true,
    "editable": true
   },
   "outputs": [],
   "source": []
  }
 ],
 "metadata": {
  "kernelspec": {
   "display_name": "Python 3",
   "language": "python",
   "name": "python3"
  },
  "language_info": {
   "codemirror_mode": {
    "name": "ipython",
    "version": 3
   },
   "file_extension": ".py",
   "mimetype": "text/x-python",
   "name": "python",
   "nbconvert_exporter": "python",
   "pygments_lexer": "ipython3",
   "version": "3.5.2"
  }
 },
 "nbformat": 4,
 "nbformat_minor": 0
}
