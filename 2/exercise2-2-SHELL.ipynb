{
 "cells": [
  {
   "cell_type": "markdown",
   "metadata": {
    "deletable": true,
    "editable": true
   },
   "source": [
    "# ESCI 445 - Programming Exercise 2-1"
   ]
  },
  {
   "cell_type": "markdown",
   "metadata": {
    "deletable": true,
    "editable": true
   },
   "source": [
    "## Second derivatives with various schemes"
   ]
  },
  {
   "cell_type": "markdown",
   "metadata": {
    "deletable": true,
    "editable": true
   },
   "source": [
    "The data are generated from $F(x)=sin(kx)$, with $k=2\\pi/\\lambda$ and $\\lambda= 200 \\text{ meters}$.  The data points are 2 meters apart.  The data values are stored in the file 'exercise_2_input.dat'."
   ]
  },
  {
   "cell_type": "markdown",
   "metadata": {
    "deletable": true,
    "editable": true
   },
   "source": [
    "Variables\n",
    "\n",
    "+ x: array of x values\n",
    "+ y: array holding y-values (read from file)\n",
    "+ nx: number of data points\n",
    "+ lambda: wavelength\n",
    "+ k: wavenumber\n",
    "+ dx: spacing between data points\n",
    "+ analytic: actual 2nd derivative\n",
    "+ second: 2nd derivative calculated using standard 2nd-order differencing\n",
    "+ fourth: 2nd derivative calculaterd using fourth-order differencing"
   ]
  },
  {
   "cell_type": "markdown",
   "metadata": {
    "deletable": true,
    "editable": true
   },
   "source": [
    "#### Import numpy and read data values into a NumPy array.  <font color = 'blue'><i>Note: You may need to include the entire directory path to the file.  This depends on your version of iPython Notebook.</i></font>"
   ]
  },
  {
   "cell_type": "code",
   "execution_count": 1,
   "metadata": {
    "collapsed": false,
    "deletable": true,
    "editable": true
   },
   "outputs": [],
   "source": [
    "import numpy as np\n",
    "\n",
    "fin = 'exercise_2_input.dat' # Input file name\n",
    "\n",
    "y = np.loadtxt(fin)    # Read data from file into NumPy array named data"
   ]
  },
  {
   "cell_type": "markdown",
   "metadata": {
    "deletable": true,
    "editable": true
   },
   "source": [
    "#### Set up some parameters"
   ]
  },
  {
   "cell_type": "code",
   "execution_count": 2,
   "metadata": {
    "collapsed": false,
    "deletable": true,
    "editable": true
   },
   "outputs": [],
   "source": [
    "# Set some parameters\n",
    "dx = 2.0    #   Data spacing\n",
    "nx = len(y)  # Determines number of data points"
   ]
  },
  {
   "cell_type": "markdown",
   "metadata": {
    "deletable": true,
    "editable": true
   },
   "source": [
    "#### Calculate analytic derivative"
   ]
  },
  {
   "cell_type": "code",
   "execution_count": 3,
   "metadata": {
    "collapsed": false,
    "deletable": true,
    "editable": true
   },
   "outputs": [],
   "source": [
    "wave_length = 200.0\n",
    "k = 2*np.pi/wave_length  # Wavenumber\n",
    "x = dx*np.arange(0,nx)  #  X values for calculating analytic derivative\n",
    "analytic = -(k**2)*np.sin(k*x)  # Analytic derivative"
   ]
  },
  {
   "cell_type": "markdown",
   "metadata": {
    "deletable": true,
    "editable": true
   },
   "source": [
    "#### Create arrays for holding the various derivative approximations"
   ]
  },
  {
   "cell_type": "code",
   "execution_count": 4,
   "metadata": {
    "collapsed": false,
    "deletable": true,
    "editable": true
   },
   "outputs": [],
   "source": [
    "second = np.zeros_like(analytic) # forward\n",
    "second.fill(None)\n",
    "fourth = np.copy(second)    # fourth-order"
   ]
  },
  {
   "cell_type": "markdown",
   "metadata": {
    "deletable": true,
    "editable": true
   },
   "source": [
    "#### <font color = 'blue'>Calculate standard difference"
   ]
  },
  {
   "cell_type": "code",
   "execution_count": 5,
   "metadata": {
    "collapsed": false,
    "deletable": true,
    "editable": true
   },
   "outputs": [],
   "source": [
    "#Calculate standard difference\n",
    "for i in range(1, nx-1): # Note:  n starts at 1, not 0\n",
    "    second[i] = (y[i+1]+y[i-1]-2*y[i])/(dx**2)"
   ]
  },
  {
   "cell_type": "markdown",
   "metadata": {
    "deletable": true,
    "editable": true
   },
   "source": [
    "#### <font color = 'blue'>Calculate fourth-order difference"
   ]
  },
  {
   "cell_type": "code",
   "execution_count": 6,
   "metadata": {
    "collapsed": false,
    "deletable": true,
    "editable": true
   },
   "outputs": [],
   "source": [
    "#Calculate fourth-order difference\n",
    "for i in range(2, nx-2):\n",
    "    fourth[i] = (1/dx**2)*(((4/3)*(y[i+1] + y[i-1])) - ((1/12) * (y[i+2] + y[i-2])) - ((5/2) * y[i]))"
   ]
  },
  {
   "cell_type": "markdown",
   "metadata": {
    "deletable": true,
    "editable": true
   },
   "source": [
    "#### Print results"
   ]
  },
  {
   "cell_type": "code",
   "execution_count": 7,
   "metadata": {
    "collapsed": false,
    "deletable": true,
    "editable": true
   },
   "outputs": [
    {
     "name": "stdout",
     "output_type": "stream",
     "text": [
      "      analytic      second        fourth     \n",
      "  0  -0.000000000           nan           nan\n",
      "  1  -0.000061972  -0.000061953           nan\n",
      "  2  -0.000123699  -0.000123652  -0.000123691\n",
      "  3  -0.000184938  -0.000184885  -0.000184948\n",
      "  4  -0.000245447  -0.000245362  -0.000245442\n",
      "  5  -0.000304988  -0.000304885  -0.000304985\n",
      "  6  -0.000363324  -0.000363210  -0.000363330\n",
      "  7  -0.000420227  -0.000420090  -0.000420228\n",
      "  8  -0.000475472  -0.000475310  -0.000475465\n",
      "  9  -0.000528840  -0.000528673  -0.000528849\n",
      " 10  -0.000580121  -0.000579920  -0.000580108\n",
      " 11  -0.000629112  -0.000628915  -0.000629124\n",
      " 12  -0.000675621  -0.000675400  -0.000675622\n",
      " 13  -0.000719463  -0.000719217  -0.000719452\n",
      " 14  -0.000760466  -0.000760215  -0.000760465\n",
      " 15  -0.000798468  -0.000798217  -0.000798484\n",
      " 16  -0.000833318  -0.000833025  -0.000833293\n",
      " 17  -0.000864880  -0.000864613  -0.000864902\n",
      " 18  -0.000893029  -0.000892725  -0.000893015\n",
      " 19  -0.000917653  -0.000917353  -0.000917655\n",
      " 20  -0.000938655  -0.000938355  -0.000938666\n",
      " 21  -0.000955953  -0.000955620  -0.000955928\n",
      " 22  -0.000969479  -0.000969185  -0.000969510\n",
      " 23  -0.000979178  -0.000978850  -0.000979170\n",
      " 24  -0.000985013  -0.000984675  -0.000984996\n",
      " 25  -0.000986960  -0.000986650  -0.000986979\n",
      " 26  -0.000985013  -0.000984675  -0.000984994\n",
      " 27  -0.000979178  -0.000978875  -0.000979203\n",
      " 28  -0.000969479  -0.000969135  -0.000969447\n",
      " 29  -0.000955953  -0.000955655  -0.000955975\n",
      " 30  -0.000938655  -0.000938335  -0.000938639\n",
      " 31  -0.000917653  -0.000917363  -0.000917667\n",
      " 32  -0.000893029  -0.000892737  -0.000893030\n",
      " 33  -0.000864880  -0.000864597  -0.000864883\n",
      " 34  -0.000833318  -0.000833033  -0.000833304\n",
      " 35  -0.000798468  -0.000798205  -0.000798468\n",
      " 36  -0.000760466  -0.000760225  -0.000760478\n",
      " 37  -0.000719463  -0.000719215  -0.000719448\n",
      " 38  -0.000675621  -0.000675408  -0.000675633\n",
      " 39  -0.000629112  -0.000628900  -0.000629105\n",
      " 40  -0.000580121  -0.000579933  -0.000580124\n",
      " 41  -0.000528840  -0.000528667  -0.000528841\n",
      " 42  -0.000475472  -0.000475315  -0.000475471\n",
      " 43  -0.000420227  -0.000420087  -0.000420225\n",
      " 44  -0.000363324  -0.000363210  -0.000363331\n",
      " 45  -0.000304988  -0.000304875  -0.000304972\n",
      " 46  -0.000245447  -0.000245375  -0.000245458\n",
      " 47  -0.000184938  -0.000184877  -0.000184938\n",
      " 48  -0.000123699  -0.000123657  -0.000123698\n",
      " 49  -0.000061972  -0.000061949  -0.000061969\n",
      " 50   0.000000000  -0.000000001  -0.000000002\n",
      " 51   0.000061972   0.000061953   0.000061974\n",
      " 52   0.000123699   0.000123657   0.000123698\n",
      " 53   0.000184938   0.000184875   0.000184936\n",
      " 54   0.000245447   0.000245365   0.000245445\n",
      " 55   0.000304988   0.000304897   0.000305000\n",
      " 56   0.000363324   0.000363197   0.000363315\n",
      " 57   0.000420227   0.000420087   0.000420225\n",
      " 58   0.000475472   0.000475322   0.000475481\n",
      " 59   0.000528840   0.000528650   0.000528819\n",
      " 60   0.000580121   0.000579952   0.000580150\n",
      " 61   0.000629112   0.000628885   0.000629085\n",
      " 62   0.000675621   0.000675412   0.000675639\n",
      " 63   0.000719463   0.000719225   0.000719461\n",
      " 64   0.000760466   0.000760210   0.000760459\n",
      " 65   0.000798468   0.000798205   0.000798467\n",
      " 66   0.000833318   0.000833060   0.000833338\n",
      " 67   0.000864880   0.000864575   0.000864854\n",
      " 68   0.000893029   0.000892740   0.000893035\n",
      " 69   0.000917653   0.000917360   0.000917663\n",
      " 70   0.000938655   0.000938345   0.000938654\n",
      " 71   0.000955953   0.000955620   0.000955929\n",
      " 72   0.000969479   0.000969185   0.000969510\n",
      " 73   0.000979178   0.000978850   0.000979170\n",
      " 74   0.000985013   0.000984675   0.000984996\n",
      " 75   0.000986960   0.000986650   0.000986978\n",
      " 76   0.000985013   0.000984685   0.000985007\n",
      " 77   0.000979178   0.000978855   0.000979177\n",
      " 78   0.000969479   0.000969160   0.000969480\n",
      " 79   0.000955953   0.000955625   0.000955935\n",
      " 80   0.000938655   0.000938367   0.000938682\n",
      " 81   0.000917653   0.000917340   0.000917638\n",
      " 82   0.000893029   0.000892743   0.000893039\n",
      " 83   0.000864880   0.000864585   0.000864866\n",
      " 84   0.000833318   0.000833055   0.000833331\n",
      " 85   0.000798468   0.000798210   0.000798474\n",
      " 86   0.000760466   0.000760200   0.000760447\n",
      " 87   0.000719463   0.000719225   0.000719463\n",
      " 88   0.000675621   0.000675400   0.000675621\n",
      " 89   0.000629112   0.000628925   0.000629138\n",
      " 90   0.000580121   0.000579900   0.000580082\n",
      " 91   0.000528840   0.000528695   0.000528877\n",
      " 92   0.000475472   0.000475302   0.000475455\n",
      " 93   0.000420227   0.000420085   0.000420223\n",
      " 94   0.000363324   0.000363212   0.000363334\n",
      " 95   0.000304988   0.000304877   0.000304975\n",
      " 96   0.000245447   0.000245372   0.000245455\n",
      " 97   0.000184938   0.000184875   0.000184935\n",
      " 98   0.000123699   0.000123660   0.000123701\n",
      " 99   0.000061972   0.000061951           nan\n",
      "100  -0.000000000           nan           nan\n"
     ]
    }
   ],
   "source": [
    "# Print results\n",
    "s = '{0:3s}  {1:12s}  {2:12s}  {3:12s}'.format(' ', ' analytic',' second', ' fourth')\n",
    "print(s)\n",
    "for i, a in enumerate(analytic):\n",
    "    s = '{0:3d}  {1:12.9f}  {2:12.9f}  {3:12.9f}'.format(i,a,second[i],fourth[i])\n",
    "    print(s)"
   ]
  },
  {
   "cell_type": "code",
   "execution_count": null,
   "metadata": {
    "collapsed": true,
    "deletable": true,
    "editable": true
   },
   "outputs": [],
   "source": []
  }
 ],
 "metadata": {
  "kernelspec": {
   "display_name": "Python 3",
   "language": "python",
   "name": "python3"
  },
  "language_info": {
   "codemirror_mode": {
    "name": "ipython",
    "version": 3
   },
   "file_extension": ".py",
   "mimetype": "text/x-python",
   "name": "python",
   "nbconvert_exporter": "python",
   "pygments_lexer": "ipython3",
   "version": "3.5.2"
  }
 },
 "nbformat": 4,
 "nbformat_minor": 0
}
