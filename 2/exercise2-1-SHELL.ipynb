{
 "cells": [
  {
   "cell_type": "markdown",
   "metadata": {
    "deletable": true,
    "editable": true
   },
   "source": [
    "# ESCI 445 - Programming Exercise 2-1"
   ]
  },
  {
   "cell_type": "markdown",
   "metadata": {
    "deletable": true,
    "editable": true
   },
   "source": [
    "## First derivatives with various schemes"
   ]
  },
  {
   "cell_type": "markdown",
   "metadata": {
    "deletable": true,
    "editable": true
   },
   "source": [
    "The data are generated from $F(x)=sin(kx)$, with $k=2\\pi/\\lambda$ and $\\lambda= 200 \\text{ meters}$.  The data points are 2 meters apart.  The data values are stored in the file 'exercise_2_input.dat'."
   ]
  },
  {
   "cell_type": "markdown",
   "metadata": {
    "deletable": true,
    "editable": true
   },
   "source": [
    "Variables\n",
    "\n",
    "+ x: array of x values\n",
    "+ y: array holding y-values (read from file)\n",
    "+ nx: number of data points\n",
    "+ lambda: wavelength\n",
    "+ k: wavenumber\n",
    "+ dx: spacing between data points\n",
    "+ analytic: actual derivative\n",
    "+ forward: derivative calculated using forward differencing\n",
    "+ backward: derivative calculated using backward differencing\n",
    "+ centered: derivative calculated using centered differencing\n",
    "+ fourth: derivative calculaterd using fourth-order differencing"
   ]
  },
  {
   "cell_type": "markdown",
   "metadata": {
    "deletable": true,
    "editable": true
   },
   "source": [
    "#### Import numpy and read data values into a NumPy array.  <font color = 'blue'><i>Note: You may need to include the entire directory path to the file.  This depends on your version of iPython Notebook.</i></font>"
   ]
  },
  {
   "cell_type": "code",
   "execution_count": 1,
   "metadata": {
    "collapsed": false,
    "deletable": true,
    "editable": true
   },
   "outputs": [],
   "source": [
    "import numpy as np\n",
    "\n",
    "fin = 'exercise_2_input.dat' # Input file name\n",
    "\n",
    "y = np.loadtxt(fin)    # Read data from file into NumPy array named data"
   ]
  },
  {
   "cell_type": "markdown",
   "metadata": {
    "deletable": true,
    "editable": true
   },
   "source": [
    "#### Set up some parameters"
   ]
  },
  {
   "cell_type": "code",
   "execution_count": 2,
   "metadata": {
    "collapsed": false,
    "deletable": true,
    "editable": true
   },
   "outputs": [],
   "source": [
    "# Set some parameters\n",
    "dx = 2.0    #   Data spacing\n",
    "nx = len(y)  # Determines number of data points"
   ]
  },
  {
   "cell_type": "markdown",
   "metadata": {
    "deletable": true,
    "editable": true
   },
   "source": [
    "#### Calculate analytic derivative"
   ]
  },
  {
   "cell_type": "code",
   "execution_count": 3,
   "metadata": {
    "collapsed": false,
    "deletable": true,
    "editable": true
   },
   "outputs": [],
   "source": [
    "wave_length = 200.0\n",
    "k = 2*np.pi/wave_length  # Wavenumber\n",
    "x = dx*np.arange(0,nx)  #  X values for calculating analytic derivative\n",
    "analytic = k*np.cos(k*x)  # Analytic derivative"
   ]
  },
  {
   "cell_type": "markdown",
   "metadata": {
    "deletable": true,
    "editable": true
   },
   "source": [
    "#### Create arrays for holding the various derivative approximations"
   ]
  },
  {
   "cell_type": "code",
   "execution_count": 4,
   "metadata": {
    "collapsed": false,
    "deletable": true,
    "editable": true
   },
   "outputs": [],
   "source": [
    "forward = np.zeros_like(analytic) # forward\n",
    "forward.fill(None)  # fill it with None\n",
    "backward = np.copy(forward)  # backward\n",
    "centered = np.copy(forward)  # centered\n",
    "fourth = np.copy(forward)    # fourth-order"
   ]
  },
  {
   "cell_type": "markdown",
   "metadata": {
    "deletable": true,
    "editable": true
   },
   "source": [
    "#### <font color = 'blue'>Calculate forward difference"
   ]
  },
  {
   "cell_type": "code",
   "execution_count": 5,
   "metadata": {
    "collapsed": false,
    "deletable": true,
    "editable": true
   },
   "outputs": [],
   "source": [
    "for i in range(0, nx-1):\n",
    "    forward[i] = (y[i+1] - y[i])/dx"
   ]
  },
  {
   "cell_type": "markdown",
   "metadata": {
    "deletable": true,
    "editable": true
   },
   "source": [
    "#### <font color = 'blue'>Calculate backward difference"
   ]
  },
  {
   "cell_type": "code",
   "execution_count": 6,
   "metadata": {
    "collapsed": false,
    "deletable": true,
    "editable": true
   },
   "outputs": [],
   "source": [
    "for i in range(1, nx-1):\n",
    "    backward[i] = (y[i] - y[i-1])/dx"
   ]
  },
  {
   "cell_type": "markdown",
   "metadata": {
    "deletable": true,
    "editable": true
   },
   "source": [
    "#### <font color = 'blue'>Calculate centered difference"
   ]
  },
  {
   "cell_type": "code",
   "execution_count": 7,
   "metadata": {
    "collapsed": false,
    "deletable": true,
    "editable": true
   },
   "outputs": [],
   "source": [
    "for i in range(1, nx-1): # Note:  n starts at 1, not 0\n",
    "    centered[i] = (y[i+1] - y[i-1])/(2*dx)"
   ]
  },
  {
   "cell_type": "markdown",
   "metadata": {
    "deletable": true,
    "editable": true
   },
   "source": [
    "#### <font color = 'blue'>Fourth-order difference"
   ]
  },
  {
   "cell_type": "code",
   "execution_count": 8,
   "metadata": {
    "collapsed": false,
    "deletable": true,
    "editable": true
   },
   "outputs": [],
   "source": [
    "for i in range(2, nx-2):\n",
    "    fourth[i] = (4.0/3.0) * ((y[i+1] - y[i-1])/(2*dx)) - (1.0/3.0) * ((y[i+2] - y[i-2]) / (4*dx))"
   ]
  },
  {
   "cell_type": "markdown",
   "metadata": {
    "deletable": true,
    "editable": true
   },
   "source": [
    "#### Print results"
   ]
  },
  {
   "cell_type": "code",
   "execution_count": 9,
   "metadata": {
    "collapsed": false,
    "deletable": true,
    "editable": true
   },
   "outputs": [
    {
     "name": "stdout",
     "output_type": "stream",
     "text": [
      "      analytic      forward       backward      centered      4th-order  \n",
      "  0   0.031415927   0.031395260           nan           nan           nan\n",
      "  1   0.031353934   0.031271355   0.031395260   0.031333307           nan\n",
      "  2   0.031168203   0.031024050   0.031271355   0.031147703   0.031168191\n",
      "  3   0.030859464   0.030654280   0.031024050   0.030839165   0.030859450\n",
      "  4   0.030428937   0.030163555   0.030654280   0.030408917   0.030428917\n",
      "  5   0.029878322   0.029553785   0.030163555   0.029858670   0.029878311\n",
      "  6   0.029209790   0.028827365   0.029553785   0.029190575   0.029209776\n",
      "  7   0.028425980   0.027987185   0.028827365   0.028407275   0.028425958\n",
      "  8   0.027529986   0.027036565   0.027987185   0.027511875   0.027529972\n",
      "  9   0.026525344   0.025979220   0.027036565   0.026507892   0.026525327\n",
      " 10   0.025416018   0.024819380   0.025979220   0.025399300   0.025416007\n",
      " 11   0.024206387   0.023561550   0.024819380   0.024190465   0.024206378\n",
      " 12   0.022901225   0.022210750   0.023561550   0.022886150   0.022901200\n",
      " 13   0.021505682   0.020772315   0.022210750   0.021491533   0.021505668\n",
      " 14   0.020025265   0.019251885   0.020772315   0.020012100   0.020025267\n",
      " 15   0.018465818   0.017655450   0.019251885   0.018453667   0.018465802\n",
      " 16   0.016833495   0.015989400   0.017655450   0.016822425   0.016833491\n",
      " 17   0.015134738   0.014260175   0.015989400   0.015124787   0.015134737\n",
      " 18   0.013376251   0.012474725   0.014260175   0.013367450   0.013376240\n",
      " 19   0.011564974   0.010640020   0.012474725   0.011557372   0.011564977\n",
      " 20   0.009708055   0.008763310   0.010640020   0.009701665   0.009708043\n",
      " 21   0.007812823   0.006852070   0.008763310   0.007807690   0.007812828\n",
      " 22   0.005886758   0.004913700   0.006852070   0.005882885   0.005886757\n",
      " 23   0.003937460   0.002956000   0.004913700   0.003934850   0.003937432\n",
      " 24   0.001972622   0.000986650   0.002956000   0.001971325   0.001972625\n",
      " 25  -0.000000000  -0.000986650   0.000986650   0.000000000   0.000000000\n",
      " 26  -0.001972622  -0.002956000  -0.000986650  -0.001971325  -0.001972621\n",
      " 27  -0.003937460  -0.004913750  -0.002956000  -0.003934875  -0.003937465\n",
      " 28  -0.005886758  -0.006852020  -0.004913750  -0.005882885  -0.005886755\n",
      " 29  -0.007812823  -0.008763330  -0.006852020  -0.007807675  -0.007812808\n",
      " 30  -0.009708055  -0.010640000  -0.008763330  -0.009701665  -0.009708047\n",
      " 31  -0.011564974  -0.012474725  -0.010640000  -0.011557363  -0.011564962\n",
      " 32  -0.013376251  -0.014260200  -0.012474725  -0.013367463  -0.013376257\n",
      " 33  -0.015134738  -0.015989395  -0.014260200  -0.015124797  -0.015134748\n",
      " 34  -0.016833495  -0.017655460  -0.015989395  -0.016822427  -0.016833493\n",
      " 35  -0.018465818  -0.019251870  -0.017655460  -0.018453665  -0.018465800\n",
      " 36  -0.020025265  -0.020772320  -0.019251870  -0.020012095  -0.020025260\n",
      " 37  -0.021505682  -0.022210750  -0.020772320  -0.021491535  -0.021505671\n",
      " 38  -0.022901225  -0.023561565  -0.022210750  -0.022886158  -0.022901210\n",
      " 39  -0.024206387  -0.024819365  -0.023561565  -0.024190465  -0.024206377\n",
      " 40  -0.025416018  -0.025979230  -0.024819365  -0.025399298  -0.025416003\n",
      " 41  -0.026525344  -0.027036565  -0.025979230  -0.026507898  -0.026525334\n",
      " 42  -0.027529986  -0.027987195  -0.027036565  -0.027511880  -0.027529977\n",
      " 43  -0.028425980  -0.028827370  -0.027987195  -0.028407283  -0.028425967\n",
      " 44  -0.029209790  -0.029553790  -0.028827370  -0.029190580  -0.029209782\n",
      " 45  -0.029878322  -0.030163540  -0.029553790  -0.029858665  -0.029878304\n",
      " 46  -0.030428937  -0.030654290  -0.030163540  -0.030408915  -0.030428915\n",
      " 47  -0.030859464  -0.031024045  -0.030654290  -0.030839168  -0.030859454\n",
      " 48  -0.031168203  -0.031271360  -0.031024045  -0.031147703  -0.031168191\n",
      " 49  -0.031353934  -0.031395259  -0.031271360  -0.031333309  -0.031353919\n",
      " 50  -0.031415927  -0.031395261  -0.031395259  -0.031395260  -0.031415910\n",
      " 51  -0.031353934  -0.031271355  -0.031395261  -0.031333308  -0.031353918\n",
      " 52  -0.031168203  -0.031024040  -0.031271355  -0.031147698  -0.031168184\n",
      " 53  -0.030859464  -0.030654290  -0.031024040  -0.030839165  -0.030859450\n",
      " 54  -0.030428937  -0.030163560  -0.030654290  -0.030408925  -0.030428929\n",
      " 55  -0.029878322  -0.029553765  -0.030163560  -0.029858663  -0.029878301\n",
      " 56  -0.029209790  -0.028827370  -0.029553765  -0.029190568  -0.029209766\n",
      " 57  -0.028425980  -0.027987195  -0.028827370  -0.028407282  -0.028425970\n",
      " 58  -0.027529986  -0.027036550  -0.027987195  -0.027511873  -0.027529966\n",
      " 59  -0.026525344  -0.025979250  -0.027036550  -0.026507900  -0.026525338\n",
      " 60  -0.025416018  -0.024819345  -0.025979250  -0.025399298  -0.025416003\n",
      " 61  -0.024206387  -0.023561575  -0.024819345  -0.024190460  -0.024206370\n",
      " 62  -0.022901225  -0.022210750  -0.023561575  -0.022886163  -0.022901219\n",
      " 63  -0.021505682  -0.020772300  -0.022210750  -0.021491525  -0.021505658\n",
      " 64  -0.020025265  -0.019251880  -0.020772300  -0.020012090  -0.020025253\n",
      " 65  -0.018465818  -0.017655470  -0.019251880  -0.018453675  -0.018465817\n",
      " 66  -0.016833495  -0.015989350  -0.017655470  -0.016822410  -0.016833472\n",
      " 67  -0.015134738  -0.014260200  -0.015989350  -0.015124775  -0.015134722\n",
      " 68  -0.013376251  -0.012474720  -0.014260200  -0.013367460  -0.013376257\n",
      " 69  -0.011564974  -0.010640000  -0.012474720  -0.011557360  -0.011564961\n",
      " 70  -0.009708055  -0.008763310  -0.010640000  -0.009701655  -0.009708032\n",
      " 71  -0.007812823  -0.006852070  -0.008763310  -0.007807690  -0.007812830\n",
      " 72  -0.005886758  -0.004913700  -0.006852070  -0.005882885  -0.005886757\n",
      " 73  -0.003937460  -0.002956000  -0.004913700  -0.003934850  -0.003937432\n",
      " 74  -0.001972622  -0.000986650  -0.002956000  -0.001971325  -0.001972625\n",
      " 75  -0.000000000   0.000986650  -0.000986650   0.000000000  -0.000000002\n",
      " 76   0.001972622   0.002956020   0.000986650   0.001971335   0.001972634\n",
      " 77   0.003937460   0.004913730   0.002956020   0.003934875   0.003937463\n",
      " 78   0.005886758   0.006852050   0.004913730   0.005882890   0.005886762\n",
      " 79   0.007812823   0.008763300   0.006852050   0.007807675   0.007812807\n",
      " 80   0.009708055   0.010640035   0.008763300   0.009701668   0.009708048\n",
      " 81   0.011564974   0.012474715   0.010640035   0.011557375   0.011564979\n",
      " 82   0.013376251   0.014260200   0.012474715   0.013367457   0.013376250\n",
      " 83   0.015134738   0.015989370   0.014260200   0.015124785   0.015134733\n",
      " 84   0.016833495   0.017655480   0.015989370   0.016822425   0.016833488\n",
      " 85   0.018465818   0.019251900   0.017655480   0.018453690   0.018465833\n",
      " 86   0.020025265   0.020772300   0.019251900   0.020012100   0.020025264\n",
      " 87   0.021505682   0.022210750   0.020772300   0.021491525   0.021505658\n",
      " 88   0.022901225   0.023561550   0.022210750   0.022886150   0.022901200\n",
      " 89   0.024206387   0.024819400   0.023561550   0.024190475   0.024206392\n",
      " 90   0.025416018   0.025979200   0.024819400   0.025399300   0.025416005\n",
      " 91   0.026525344   0.027036590   0.025979200   0.026507895   0.026525328\n",
      " 92   0.027529986   0.027987195   0.027036590   0.027511892   0.027529994\n",
      " 93   0.028425980   0.028827365   0.027987195   0.028407280   0.028425962\n",
      " 94   0.029209790   0.029553790   0.028827365   0.029190577   0.029209779\n",
      " 95   0.029878322   0.030163545   0.029553790   0.029858668   0.029878308\n",
      " 96   0.030428937   0.030654290   0.030163545   0.030408918   0.030428918\n",
      " 97   0.030859464   0.031024040   0.030654290   0.030839165   0.030859450\n",
      " 98   0.031168203   0.031271360   0.031024040   0.031147700   0.031168187\n",
      " 99   0.031353934   0.031395262   0.031271360   0.031333311           nan\n",
      "100   0.031415927           nan           nan           nan           nan\n"
     ]
    }
   ],
   "source": [
    "# Print results\n",
    "s = '{0:3s}  {1:12s}  {2:12s}  {3:12s}  {4:12s}  {5:12s}'\\\n",
    "    .format(' ', ' analytic', ' forward', ' backward', ' centered', ' 4th-order')\n",
    "print(s)\n",
    "for i, a in enumerate(analytic):\n",
    "    s = '{0:3d}  {1:12.9f}  {2:12.9f}  {3:12.9f}  {4:12.9f}  {5:12.9f}'\\\n",
    "        .format(i,a,forward[i],backward[i],centered[i],fourth[i])\n",
    "    print(s)"
   ]
  }
 ],
 "metadata": {
  "kernelspec": {
   "display_name": "Python 3",
   "language": "python",
   "name": "python3"
  },
  "language_info": {
   "codemirror_mode": {
    "name": "ipython",
    "version": 3
   },
   "file_extension": ".py",
   "mimetype": "text/x-python",
   "name": "python",
   "nbconvert_exporter": "python",
   "pygments_lexer": "ipython3",
   "version": "3.5.2"
  }
 },
 "nbformat": 4,
 "nbformat_minor": 0
}
